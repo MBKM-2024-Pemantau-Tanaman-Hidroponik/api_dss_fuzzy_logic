{
 "cells": [
  {
   "cell_type": "code",
   "execution_count": 1,
   "metadata": {},
   "outputs": [],
   "source": [
    "# pip install scikit-fuzzy\n",
    "# !pip install networkx"
   ]
  },
  {
   "cell_type": "code",
   "execution_count": 2,
   "metadata": {},
   "outputs": [],
   "source": [
    "import numpy as np\n",
    "import skfuzzy as fuzz\n",
    "from skfuzzy import control as ctrl\n",
    "import firebase_admin\n",
    "from firebase_admin import credentials, db"
   ]
  },
  {
   "cell_type": "code",
   "execution_count": 3,
   "metadata": {},
   "outputs": [],
   "source": [
    "# Inisialisasi Firebase menggunakan service account key\n",
    "# Cek apakah Firebase sudah diinisialisasi\n",
    "if not firebase_admin._apps:\n",
    "    cred = credentials.Certificate(\"G:\\\\KULIAH\\\\SCREEN_HOUSE_MBKM_2024\\\\monitoring-screenhouse-firebase-adminsdk-aljcq-fe24724aeb.json\")\n",
    "    firebase_admin.initialize_app(cred, {\n",
    "        'databaseURL': 'https://monitoring-screenhouse-default-rtdb.firebaseio.com/'\n",
    "    })"
   ]
  },
  {
   "cell_type": "markdown",
   "metadata": {},
   "source": [
    "# Pengambilan Data Secara Keselurahan"
   ]
  },
  {
   "cell_type": "code",
   "execution_count": null,
   "metadata": {},
   "outputs": [
    {
     "name": "stdout",
     "output_type": "stream",
     "text": [
      "Suhu: 40.56 °C\n",
      "Kelembapan Udara: 41.25 %\n",
      "Kelembapan Tanah: 4.77 %\n",
      "pH Air: 5.97\n",
      "TDS: 100.61\n"
     ]
    }
   ],
   "source": [
    "# # Referensi ke database\n",
    "# ref_1 = db.reference('sensor_data_1')\n",
    "# ref_2 = db.reference('sensor_data_2')\n",
    "# ref_3 = db.reference('sensor_data_3')\n",
    "\n",
    "# # Membaca data dari Firebase\n",
    "# data_sensor_1 = ref_1.get()\n",
    "# data_sensor_2 = ref_2.get()\n",
    "# data_sensor_3 = ref_3.get()\n",
    "\n",
    "# # List untuk menyimpan data suhu, kelembapan udara, kelembapan tanah, TDS, dan pH\n",
    "# suhu_values = []\n",
    "# kelembapan_udara_values = []\n",
    "# kelembapan_tanah_values = []\n",
    "# tds_values = []\n",
    "# ph_values = []\n",
    "\n",
    "# # Fungsi untuk mengambil data suhu, kelembapan udara, dan kelembapan tanah\n",
    "# def ambil_data_sensor(data, suhu_list, kelembapan_udara_list, kelembapan_tanah_list):\n",
    "#     for key, sensor_data in data.items():\n",
    "#         suhu_value = sensor_data['temperature']\n",
    "#         kelembapan_udara_value = sensor_data['humidity'] \n",
    "#         kelembapan_tanah_value = sensor_data['soil_moisture']\n",
    "        \n",
    "#         # Tambahkan ke list\n",
    "#         suhu_list.append(suhu_value)\n",
    "#         kelembapan_udara_list.append(kelembapan_udara_value)\n",
    "#         kelembapan_tanah_list.append(kelembapan_tanah_value)\n",
    "\n",
    "# # Fungsi untuk mengambil data pH dan TDS\n",
    "# def ambil_data_sensor_3(data, tds_list, ph_list):\n",
    "#     for key, sensor_data in data.items():\n",
    "#         tds_data = sensor_data.get('TDS', 'Data tidak tersedia')\n",
    "#         ph_data = sensor_data.get('pH', 'Data tidak tersedia')\n",
    "        \n",
    "#         # Pastikan hanya data numerik yang dimasukkan\n",
    "#         if isinstance(tds_data, (int, float)):\n",
    "#             tds_list.append(tds_data)\n",
    "#         if isinstance(ph_data, (int, float)):\n",
    "#             ph_list.append(ph_data)\n",
    "\n",
    "# # Mengambil data dari sensor_data_1 dan sensor_data_2\n",
    "# ambil_data_sensor(data_sensor_1, suhu_values, kelembapan_udara_values, kelembapan_tanah_values)\n",
    "# ambil_data_sensor(data_sensor_2, suhu_values, kelembapan_udara_values, kelembapan_tanah_values)\n",
    "\n",
    "# # Mengambil data dari sensor_data_3\n",
    "# ambil_data_sensor_3(data_sensor_3, tds_values, ph_values)\n",
    "\n",
    "# # Menghitung rata-rata dari sensor 1, 2 & 3\n",
    "# mean_suhu = round(sum(suhu_values) / len(suhu_values), 2)\n",
    "# mean_kelembapan_udara = round(sum(kelembapan_udara_values) / len(kelembapan_udara_values), 2)\n",
    "# mean_kelembapan_tanah = round(sum(kelembapan_tanah_values) / len(kelembapan_tanah_values), 2)\n",
    "# mean_ph = round(sum(ph_values) / len(ph_values), 2)\n",
    "# mean_tds = round(sum(tds_values) / len(tds_values), 2)\n",
    "\n",
    "# # Menampilkan rata-rata data\n",
    "# print(f\"Suhu: {mean_suhu} °C\")\n",
    "# print(f\"Kelembapan Udara: {mean_kelembapan_udara} %\")\n",
    "# print(f\"Kelembapan Tanah: {mean_kelembapan_tanah} %\")\n",
    "# print(f\"pH Air: {mean_ph}\")\n",
    "# print(f\"TDS: {mean_tds}\")"
   ]
  },
  {
   "cell_type": "markdown",
   "metadata": {},
   "source": [
    "# Pengambilan Nilai Data Paling Akhir"
   ]
  },
  {
   "cell_type": "code",
   "execution_count": 5,
   "metadata": {},
   "outputs": [
    {
     "name": "stdout",
     "output_type": "stream",
     "text": [
      "Suhu: 36.45 °C\n",
      "Kelembapan Udara: 56.0 %\n",
      "Kelembapan Tanah: 86.5 %\n",
      "pH Air: 5\n",
      "TDS: 106\n"
     ]
    }
   ],
   "source": [
    "# Referensi ke database\n",
    "ref_1 = db.reference('sensor_data_1')\n",
    "ref_2 = db.reference('sensor_data_2')\n",
    "ref_3 = db.reference('sensor_data_3')\n",
    "\n",
    "# Membaca data dari Firebase\n",
    "data_sensor_1 = ref_1.get()\n",
    "data_sensor_2 = ref_2.get()\n",
    "data_sensor_3 = ref_3.get()\n",
    "\n",
    "# Mengambil data terbaru dari sensor_data_1 (berdasarkan kunci terakhir)\n",
    "last_key_1 = sorted(data_sensor_1.keys())[-1]\n",
    "sensor_data_1 = data_sensor_1[last_key_1]\n",
    "\n",
    "# Mengambil data terbaru dari sensor_data_2 (berdasarkan kunci terakhir)\n",
    "last_key_2 = sorted(data_sensor_2.keys())[-1]\n",
    "sensor_data_2 = data_sensor_2[last_key_2]\n",
    "\n",
    "# Mengambil data terbaru dari sensor_data_3 (berdasarkan kunci terakhir)\n",
    "last_key_3 = sorted(data_sensor_3.keys())[-1]\n",
    "sensor_data_3 = data_sensor_3[last_key_3]\n",
    "\n",
    "# Mengambil nilai dari sensor 1\n",
    "suhu_value_1 = sensor_data_1['temperature']\n",
    "kelembapan_udara_value_1 = sensor_data_1['humidity'] \n",
    "kelembapan_tanah_value_1 = sensor_data_1['soil_moisture']\n",
    "\n",
    "# Mengambil nilai dari sensor 2\n",
    "suhu_value_2 = sensor_data_2['temperature']\n",
    "kelembapan_udara_value_2 = sensor_data_2['humidity'] \n",
    "kelembapan_tanah_value_2 = sensor_data_2['soil_moisture']\n",
    "\n",
    "# Mengambil nilai dari sensor 3\n",
    "tds_value = sensor_data_3.get('TDS', 'Data tidak tersedia')\n",
    "ph_value = sensor_data_3.get('pH', 'Data tidak tersedia')\n",
    "\n",
    "# List untuk menyimpan data suhu, kelembapan udara, dan kelembapan tanah\n",
    "suhu_values = [suhu_value_1, suhu_value_2]\n",
    "kelembapan_udara_values = [kelembapan_udara_value_1, kelembapan_udara_value_2]\n",
    "kelembapan_tanah_values = [kelembapan_tanah_value_1, kelembapan_tanah_value_2]\n",
    "\n",
    "# Menghitung rata-rata dari sensor 1 & 2\n",
    "mean_suhu = round(sum(suhu_values) / len(suhu_values), 2)\n",
    "mean_kelembapan_udara = round(sum(kelembapan_udara_values) / len(kelembapan_udara_values), 2)\n",
    "mean_kelembapan_tanah = round(sum(kelembapan_tanah_values) / len(kelembapan_tanah_values), 2)\n",
    "\n",
    "# Menampilkan rata-rata data\n",
    "print(f\"Suhu: {mean_suhu} °C\")\n",
    "print(f\"Kelembapan Udara: {mean_kelembapan_udara} %\")\n",
    "print(f\"Kelembapan Tanah: {mean_kelembapan_tanah} %\")\n",
    "print(f\"pH Air: {ph_value}\")\n",
    "print(f\"TDS: {tds_value}\")"
   ]
  },
  {
   "cell_type": "code",
   "execution_count": 6,
   "metadata": {},
   "outputs": [],
   "source": [
    "# 1. Definisikan variabel input dan output\n",
    "# Variabel input\n",
    "suhu = ctrl.Antecedent(np.arange(0, 51, 1), 'suhu')  # Range suhu 0°C hingga 50°C\n",
    "kelembapan_udara = ctrl.Antecedent(np.arange(0, 101, 1), 'kelembapan_udara')  # Range kelembapan udara 0% hingga 100%\n",
    "kelembapan_tanah = ctrl.Antecedent(np.arange(0, 101, 1), 'kelembapan_tanah')  # Range kelembapan tanah 0% hingga 100%\n",
    "ph_air = ctrl.Antecedent(np.arange(0, 15, 1), 'ph_air')  # Range pH air 0 hingga 14\n",
    "tds = ctrl.Antecedent(np.arange(0, 2001, 1), 'tds')  # Range TDS 0 hingga 2000 ppm"
   ]
  },
  {
   "cell_type": "code",
   "execution_count": 7,
   "metadata": {},
   "outputs": [],
   "source": [
    "# Variabel output (Tindakan: 0 = Siram Air, 1 = Tambahkan Nutrisi, 2 = Pemantauan)\n",
    "tindakan = ctrl.Consequent(np.arange(0, 3, 1), 'tindakan')"
   ]
  },
  {
   "cell_type": "code",
   "execution_count": 8,
   "metadata": {},
   "outputs": [],
   "source": [
    "# 2. Definisikan fungsi keanggotaan (membership functions) untuk setiap variabel input\n",
    "# Suhu (Dingin, Normal, Panas)\n",
    "suhu['dingin'] = fuzz.trimf(suhu.universe, [15, 18, 22])\n",
    "suhu['normal'] = fuzz.trimf(suhu.universe, [20, 27, 32])  \n",
    "suhu['panas'] = fuzz.trimf(suhu.universe, [30, 35, 40])  "
   ]
  },
  {
   "cell_type": "code",
   "execution_count": 9,
   "metadata": {},
   "outputs": [],
   "source": [
    "# Kelembapan Udara (Rendah, Sedang, Tinggi)\n",
    "kelembapan_udara['rendah'] = fuzz.trimf(kelembapan_udara.universe, [40, 50, 60])\n",
    "kelembapan_udara['sedang'] = fuzz.trimf(kelembapan_udara.universe, [55, 70, 85])\n",
    "kelembapan_udara['tinggi'] = fuzz.trimf(kelembapan_udara.universe, [80, 90, 100])"
   ]
  },
  {
   "cell_type": "code",
   "execution_count": 10,
   "metadata": {},
   "outputs": [],
   "source": [
    "# Kelembapan Tanah (Kering, Normal, Basah)\n",
    "kelembapan_tanah['kering'] = fuzz.trimf(kelembapan_tanah.universe, [0, 20, 40])\n",
    "kelembapan_tanah['normal'] = fuzz.trimf(kelembapan_tanah.universe, [30, 50, 70])\n",
    "kelembapan_tanah['basah'] = fuzz.trimf(kelembapan_tanah.universe, [60, 80, 100])"
   ]
  },
  {
   "cell_type": "code",
   "execution_count": 11,
   "metadata": {},
   "outputs": [],
   "source": [
    "# pH Air (Asam, Netral, Basa)\n",
    "ph_air['asam'] = fuzz.trimf(ph_air.universe, [0, 0, 6.5])\n",
    "ph_air['netral'] = fuzz.trimf(ph_air.universe, [6.5, 7, 7.5])\n",
    "ph_air['basa'] = fuzz.trimf(ph_air.universe, [7.5, 11, 14])"
   ]
  },
  {
   "cell_type": "code",
   "execution_count": 12,
   "metadata": {},
   "outputs": [],
   "source": [
    "# TDS (Rendah, Sedang, Tinggi)\n",
    "tds['rendah'] = fuzz.trimf(tds.universe, [0, 0, 600])\n",
    "tds['sedang'] = fuzz.trimf(tds.universe, [600, 1000, 1200])\n",
    "tds['tinggi'] = fuzz.trimf(tds.universe, [1200, 2000, 2500])"
   ]
  },
  {
   "cell_type": "code",
   "execution_count": 13,
   "metadata": {},
   "outputs": [],
   "source": [
    "# Tindakan (Siram Air, Tambahkan Nutrisi, Pemantauan)\n",
    "tindakan['siram_air'] = fuzz.trimf(tindakan.universe, [0, 0, 0.5])\n",
    "tindakan['tambahkan_nutrisi'] = fuzz.trimf(tindakan.universe, [0.5, 1, 1.5])\n",
    "tindakan['pemantauan'] = fuzz.trimf(tindakan.universe, [1.5, 2, 2.5])"
   ]
  },
  {
   "cell_type": "code",
   "execution_count": 14,
   "metadata": {},
   "outputs": [],
   "source": [
    "# 3. Definisikan aturan fuzzy\n",
    "# Aturan:\n",
    "# Jika Suhu Panas dan Kelembapan Tanah Kering maka Siram Air\n",
    "rule1 = ctrl.Rule(suhu['panas'] & kelembapan_tanah['kering'], tindakan['siram_air'])\n",
    "\n",
    "# Jika TDS Rendah atau pH Asam atau Basa maka Tambahkan Nutrisi\n",
    "rule2 = ctrl.Rule(tds['rendah'] | ph_air['asam'] | ph_air['basa'], tindakan['tambahkan_nutrisi'])\n",
    "\n",
    "# Jika Suhu Normal, Kelembapan Tanah Normal, Kelembapan Udara Sedang, pH Netral, TDS Sedang maka Pemantauan\n",
    "rule3 = ctrl.Rule(suhu['normal'] & kelembapan_tanah['normal'] & kelembapan_udara['sedang'] & ph_air['netral'] & tds['sedang'], tindakan['pemantauan'])"
   ]
  },
  {
   "cell_type": "code",
   "execution_count": 15,
   "metadata": {},
   "outputs": [],
   "source": [
    "# 4. Membuat sistem kontrol fuzzy\n",
    "dss_ctrl = ctrl.ControlSystem([rule1, rule2, rule3])\n",
    "dss_simulation = ctrl.ControlSystemSimulation(dss_ctrl)"
   ]
  },
  {
   "cell_type": "code",
   "execution_count": 16,
   "metadata": {},
   "outputs": [],
   "source": [
    "# 5. Masukkan data input\n",
    "dss_simulation.input['suhu'] = int(mean_suhu) \n",
    "dss_simulation.input['kelembapan_udara'] = int(mean_kelembapan_udara) \n",
    "dss_simulation.input['kelembapan_tanah'] = int(mean_kelembapan_tanah)  \n",
    "dss_simulation.input['ph_air'] = int(ph_value)  \n",
    "dss_simulation.input['tds'] = int(tds_value)  "
   ]
  },
  {
   "cell_type": "code",
   "execution_count": 17,
   "metadata": {},
   "outputs": [],
   "source": [
    "# 6. Jalankan simulasi\n",
    "dss_simulation.compute()"
   ]
  },
  {
   "cell_type": "code",
   "execution_count": 18,
   "metadata": {},
   "outputs": [
    {
     "name": "stdout",
     "output_type": "stream",
     "text": [
      "Tindakan yang direkomendasikan: Tambahkan Nutrisi\n"
     ]
    }
   ],
   "source": [
    "# 7. Hasil output (tindakan yang direkomendasikan)\n",
    "hasil_tindakan = dss_simulation.output['tindakan']\n",
    "\n",
    "if hasil_tindakan < 0.5:\n",
    "    rekomendasi = \"Siram Air\"\n",
    "elif 0.5 <= hasil_tindakan < 1.5:\n",
    "    rekomendasi = \"Tambahkan Nutrisi\"\n",
    "else:\n",
    "    rekomendasi = \"Pemantauan\"\n",
    "\n",
    "print(f\"Tindakan yang direkomendasikan: {rekomendasi}\")"
   ]
  }
 ],
 "metadata": {
  "kernelspec": {
   "display_name": "Python 3",
   "language": "python",
   "name": "python3"
  },
  "language_info": {
   "codemirror_mode": {
    "name": "ipython",
    "version": 3
   },
   "file_extension": ".py",
   "mimetype": "text/x-python",
   "name": "python",
   "nbconvert_exporter": "python",
   "pygments_lexer": "ipython3",
   "version": "3.11.0"
  }
 },
 "nbformat": 4,
 "nbformat_minor": 4
}
